{
  "nbformat": 4,
  "nbformat_minor": 0,
  "metadata": {
    "colab": {
      "name": "Google text to speech.ipynb",
      "provenance": [],
      "authorship_tag": "ABX9TyNAr2ow8a7Gz2IXQhUsj7RO",
      "include_colab_link": true
    },
    "kernelspec": {
      "name": "python3",
      "display_name": "Python 3"
    },
    "language_info": {
      "name": "python"
    }
  },
  "cells": [
    {
      "cell_type": "markdown",
      "metadata": {
        "id": "view-in-github",
        "colab_type": "text"
      },
      "source": [
        "<a href=\"https://colab.research.google.com/github/whitecaspian/Data-Analytics/blob/main/Google_text_to_speech%20on%20Aladdin%20Plot.ipynb\" target=\"_parent\"><img src=\"https://colab.research.google.com/assets/colab-badge.svg\" alt=\"Open In Colab\"/></a>"
      ]
    },
    {
      "cell_type": "code",
      "metadata": {
        "colab": {
          "base_uri": "https://localhost:8080/",
          "height": 35
        },
        "id": "eHcavbaHzm61",
        "outputId": "93364f82-ddf1-4cd1-a019-fa790e22d4da"
      },
      "source": [
        "#Check current working Directory\n",
        "import os \n",
        "os.getcwd()"
      ],
      "execution_count": 6,
      "outputs": [
        {
          "output_type": "execute_result",
          "data": {
            "application/vnd.google.colaboratory.intrinsic+json": {
              "type": "string"
            },
            "text/plain": [
              "'/content'"
            ]
          },
          "metadata": {
            "tags": []
          },
          "execution_count": 6
        }
      ]
    },
    {
      "cell_type": "code",
      "metadata": {
        "colab": {
          "base_uri": "https://localhost:8080/"
        },
        "id": "qdWJL6A6zVEb",
        "outputId": "ba499962-af8c-4f85-9596-798364f80488"
      },
      "source": [
        "#Install gTTS on Colab\n",
        "!pip install gtts"
      ],
      "execution_count": 2,
      "outputs": [
        {
          "output_type": "stream",
          "text": [
            "Collecting gtts\n",
            "  Downloading https://files.pythonhosted.org/packages/5f/b9/94e59337107be134b21ce395a29fc0715b707b560108d6797de2d93e1178/gTTS-2.2.2-py3-none-any.whl\n",
            "Requirement already satisfied: requests in /usr/local/lib/python3.7/dist-packages (from gtts) (2.23.0)\n",
            "Requirement already satisfied: click in /usr/local/lib/python3.7/dist-packages (from gtts) (7.1.2)\n",
            "Requirement already satisfied: six in /usr/local/lib/python3.7/dist-packages (from gtts) (1.15.0)\n",
            "Requirement already satisfied: urllib3!=1.25.0,!=1.25.1,<1.26,>=1.21.1 in /usr/local/lib/python3.7/dist-packages (from requests->gtts) (1.24.3)\n",
            "Requirement already satisfied: certifi>=2017.4.17 in /usr/local/lib/python3.7/dist-packages (from requests->gtts) (2020.12.5)\n",
            "Requirement already satisfied: idna<3,>=2.5 in /usr/local/lib/python3.7/dist-packages (from requests->gtts) (2.10)\n",
            "Requirement already satisfied: chardet<4,>=3.0.2 in /usr/local/lib/python3.7/dist-packages (from requests->gtts) (3.0.4)\n",
            "Installing collected packages: gtts\n",
            "Successfully installed gtts-2.2.2\n"
          ],
          "name": "stdout"
        }
      ]
    },
    {
      "cell_type": "code",
      "metadata": {
        "id": "UnXMz8YKzMuc"
      },
      "source": [
        "from gtts import gTTS"
      ],
      "execution_count": 3,
      "outputs": []
    },
    {
      "cell_type": "code",
      "metadata": {
        "colab": {
          "base_uri": "https://localhost:8080/"
        },
        "id": "XNN3SaYRzNyt",
        "outputId": "9dd2aed8-9ab5-46ba-e61a-33769d8717a5"
      },
      "source": [
        "#https://en.wikipedia.org/wiki/Aladdin_(2019_film)   from plot\n",
        "a=input('enter text to speech')"
      ],
      "execution_count": 4,
      "outputs": [
        {
          "output_type": "stream",
          "text": [
            "enter text to speechAladdin, a street urchin in the Arabian city of Agrabah, and his monkey Abu meet Princess Jasmine, who has snuck away from her sheltered life in the palace. Jasmine wishes to succeed her father as Sultan, but is instead expected to marry one of her royal suitors, including the charming yet dimwitted Prince Anders. Jafar, the grand vizier, schemes to overthrow the Sultan and seeks a magic lamp hidden in the Cave of Wonders, but only \"the diamond in the rough\" can enter the cave.  Jafar's pet parrot Iago spots Aladdin and Abu sneaking into the royal palace and visiting Jasmine. Aladdin is then captured by Jafar. He offers to make Aladdin rich enough to impress Jasmine in exchange for retrieving the lamp, and warns him to take nothing else. Inside the cave, Aladdin frees a magic carpet and finds the lamp, but Abu cannot resist touching some treasure and causes the cave to collapse. Aladdin gives the lamp to Jafar, who double crosses and kicks him and Abu into the cave, but Abu steals the lamp back.  Trapped in the cave, Aladdin rubs the lamp, unwittingly summoning the omnipotent Genie inside, who explains that he has the power to grant Aladdin three wishes. Aladdin gets them out of the cave without using a wish on a technicality: he did not rub the lamp in the first place as he stated the wish. Determined to woo Jasmine, he uses his official first wish to become a prince, and promises to use his third wish to free the Genie from servitude and turn him human.  Aladdin makes an extravagant arrival at Agrabah as Prince Ali of Ababwa, but struggles to impress Jasmine. Posing as Aladdin's human attendant, the Genie is mutually smitten with Dalia, Jasmine's handmaiden. Aladdin and Jasmine bond when he takes her on a ride on the magic carpet. Tricked into revealing his true identity, he lies to her, saying that he actually is a prince and dressed like a peasant to explore Agrabah.\n"
          ],
          "name": "stdout"
        }
      ]
    },
    {
      "cell_type": "code",
      "metadata": {
        "id": "0mFNr2kBzTTO"
      },
      "source": [
        "#Converting speech to text\n",
        "speech=gTTS(text=a,slow=True,lang='en')\n",
        "speech.save('myspeech.mp3')"
      ],
      "execution_count": 5,
      "outputs": []
    }
  ]
}